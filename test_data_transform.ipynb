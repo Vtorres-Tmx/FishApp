{
 "cells": [
  {
   "cell_type": "code",
   "execution_count": 58,
   "id": "af05fe66",
   "metadata": {},
   "outputs": [],
   "source": [
    "import pandas as pd\n",
    "import random"
   ]
  },
  {
   "cell_type": "code",
   "execution_count": 59,
   "id": "de89bef8",
   "metadata": {},
   "outputs": [],
   "source": [
    "# Read Excel file with pd.read_excel instead of pd.read_csv\n",
    "coords = pd.read_excel(\"Coordenadas_Granjas.xlsx\", engine='openpyxl')\n",
    "# Read CSV file with explicit encoding to handle special characters\n",
    "data = pd.read_csv(\"Datos_Ficticios_Granjas_Expandido.csv\", encoding='latin1')"
   ]
  },
  {
   "cell_type": "code",
   "execution_count": 60,
   "id": "42a0db67",
   "metadata": {},
   "outputs": [],
   "source": [
    "# Split coordinates into separate latitude and longitude columns\n",
    "coords[['latitude', 'longitude']] = coords['Coordenadas'].str.split(',', expand=True)\n",
    "coords = coords.drop('Coordenadas', axis=1)\n",
    "coords = coords.rename(columns={'Nombre granja': 'pond_id'})"
   ]
  },
  {
   "cell_type": "code",
   "execution_count": 61,
   "id": "9faef6aa",
   "metadata": {},
   "outputs": [],
   "source": [
    "data['pond_id'] = data['pond_id'].replace({\n",
    "    'Pond_A': 'Granja 1',\n",
    "    'Pond_B': 'Granja 2', \n",
    "    'Pond_C': 'Granja 3',\n",
    "    'Pond_D': 'Granja 4',\n",
    "    'Pond_E': 'Granja 5',\n",
    "    'Pond_F': 'Granja 6',\n",
    "    'Pond_G': 'Granja 7',\n",
    "    'Pond_H': 'Granja 8',\n",
    "    'Pond_I': 'Granja 9',\n",
    "    'Pond_J': 'Granja 10',\n",
    "    'Pond_K': 'Granja 11',\n",
    "    'Pond_L': 'Granja 12',\n",
    "    'Pond_M': 'Granja 13',\n",
    "    'Pond_N': 'Granja 14',\n",
    "    'Pond_O': 'Granja 15'\n",
    "})"
   ]
  },
  {
   "cell_type": "code",
   "execution_count": 62,
   "id": "d71b2e82",
   "metadata": {},
   "outputs": [],
   "source": [
    "ponds = pd.merge(data, coords, on='pond_id', how='left')"
   ]
  },
  {
   "cell_type": "code",
   "execution_count": 63,
   "id": "1d4837df",
   "metadata": {},
   "outputs": [],
   "source": [
    "ponds.to_csv('FishAppData.csv', index=False)"
   ]
  },
  {
   "cell_type": "code",
   "execution_count": null,
   "id": "980f9571",
   "metadata": {},
   "outputs": [],
   "source": []
  },
  {
   "cell_type": "code",
   "execution_count": null,
   "id": "88f669cd",
   "metadata": {},
   "outputs": [],
   "source": []
  }
 ],
 "metadata": {
  "kernelspec": {
   "display_name": ".venv",
   "language": "python",
   "name": "python3"
  },
  "language_info": {
   "codemirror_mode": {
    "name": "ipython",
    "version": 3
   },
   "file_extension": ".py",
   "mimetype": "text/x-python",
   "name": "python",
   "nbconvert_exporter": "python",
   "pygments_lexer": "ipython3",
   "version": "3.13.4"
  }
 },
 "nbformat": 4,
 "nbformat_minor": 5
}
